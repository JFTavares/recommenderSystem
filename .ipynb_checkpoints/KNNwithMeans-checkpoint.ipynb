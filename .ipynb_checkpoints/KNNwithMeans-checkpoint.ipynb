{
 "cells": [
  {
   "cell_type": "code",
   "execution_count": 1,
   "metadata": {},
   "outputs": [],
   "source": [
    "from __future__ import (absolute_import, division, print_function,\n",
    "                        unicode_literals)\n",
    "\n",
    "from surprise import KNNBasic\n",
    "from surprise import Dataset\n",
    "from surprise import accuracy\n",
    "from surprise.model_selection import train_test_split"
   ]
  },
  {
   "cell_type": "code",
   "execution_count": null,
   "metadata": {},
   "outputs": [],
   "source": [
    "# Load the movielens-100k dataset  UserID::MovieID::Rating::Timestamp\n",
    "data = Dataset.load_builtin('ml-1m')\n",
    "trainset, testset = train_test_split(data, test_size=.5)\n",
    "\n",
    "# Configura o algoritmo. K = número de vizinhos. Name = Tipo de medida de similiradade. User based = filtragem por usuário ou item.\n",
    "\n",
    "print(\"Usando o algoritmo KNNWithMeans com 50 vizinhos\")\n",
    "print(\"Algoritmo de similiraridade: Pearson\")\n",
    "algoritmo = KNNBasic(k=50, sim_options={'name': 'pearson', 'user_based': True, 'verbose' : True})\n",
    "\n",
    "algoritmo.fit(trainset)\n",
    "\n",
    "# Selecionamos o usuário e o filme que será analisado\n",
    "# User 49. Tem entre 18 e 24 anos. É programador e mora em Huston, Texas\n",
    "uid = str(49)  \n",
    "# Filme visto e avaliado: Negotiator, The (1998)::Action|Thriller. Avaliação 4\n",
    "iid = str(2058)  # raw item id\n",
    "\n",
    "# get a prediction for specific users and items.\n",
    "print(\"Predição de avaliação: \")\n",
    "pred = algoritmo.predict(uid, iid, r_ui=4, verbose=True)\n",
    "\n",
    "# run the trained model against the testset\n",
    "test_pred = algoritmo.test(testset)\n",
    "\n",
    "# Avalia RMSE\n",
    "print(\"Avaliação RMSE: \")\n",
    "accuracy.rmse(test_pred, verbose=True)\n",
    "\n",
    "# Avalia MAE\n",
    "print(\"Avaliação MAE: \")\n",
    "accuracy.mae(test_pred, verbose=True)"
   ]
  },
  {
   "cell_type": "code",
   "execution_count": null,
   "metadata": {},
   "outputs": [],
   "source": []
  },
  {
   "cell_type": "code",
   "execution_count": null,
   "metadata": {},
   "outputs": [],
   "source": []
  },
  {
   "cell_type": "code",
   "execution_count": null,
   "metadata": {},
   "outputs": [],
   "source": []
  }
 ],
 "metadata": {
  "kernelspec": {
   "display_name": "Python 3",
   "language": "python",
   "name": "python3"
  },
  "language_info": {
   "codemirror_mode": {
    "name": "ipython",
    "version": 3
   },
   "file_extension": ".py",
   "mimetype": "text/x-python",
   "name": "python",
   "nbconvert_exporter": "python",
   "pygments_lexer": "ipython3",
   "version": "3.7.3"
  }
 },
 "nbformat": 4,
 "nbformat_minor": 2
}
